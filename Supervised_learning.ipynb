{
  "nbformat": 4,
  "nbformat_minor": 0,
  "metadata": {
    "colab": {
      "name": "Supervised learning.ipynb",
      "provenance": [],
      "toc_visible": true,
      "mount_file_id": "1Nqk_1XkEyWdweLLWa4wufk3blOcqSjvZ",
      "authorship_tag": "ABX9TyPXmcf81gQPY7eqiYfuuUPR",
      "include_colab_link": true
    },
    "kernelspec": {
      "name": "python3",
      "display_name": "Python 3"
    },
    "language_info": {
      "name": "python"
    },
    "accelerator": "GPU"
  },
  "cells": [
    {
      "cell_type": "markdown",
      "metadata": {
        "id": "view-in-github",
        "colab_type": "text"
      },
      "source": [
        "<a href=\"https://colab.research.google.com/github/JiaxinLi-lipluszn/Temp_notebooks/blob/main/Supervised_learning.ipynb\" target=\"_parent\"><img src=\"https://colab.research.google.com/assets/colab-badge.svg\" alt=\"Open In Colab\"/></a>"
      ]
    },
    {
      "cell_type": "markdown",
      "metadata": {
        "id": "d0RVmWG_O_hr"
      },
      "source": [
        "# Import "
      ]
    },
    {
      "cell_type": "code",
      "metadata": {
        "id": "rR0klmqwO_LX"
      },
      "source": [
        "import os\n",
        "import sys\n",
        "import argparse\n",
        "\n",
        "import torch\n",
        "from torch import nn\n",
        "import torch.distributed as dist\n",
        "import torch.backends.cudnn as cudnn\n",
        "from torchvision import datasets\n",
        "from torchvision import transforms as pth_transforms\n",
        "from torchvision import models as torchvision_models\n",
        "import pandas as pd\n",
        "from torch.utils.data import Dataset\n",
        "from functools import partial\n",
        "import numpy as np\n",
        "from torch import optim\n",
        "from pathlib import Path\n",
        "from torch.autograd import Variable\n",
        "\n",
        "import os\n",
        "import argparse\n",
        "import os\n",
        "import sys\n",
        "import datetime\n",
        "import time\n",
        "import math\n",
        "import json\n",
        "from pathlib import Path\n",
        "\n",
        "import numpy as np\n",
        "from PIL import Image\n",
        "import torch\n",
        "import torch.nn as nn\n",
        "import torch.distributed as dist\n",
        "import torch.backends.cudnn as cudnn\n",
        "import torch.nn.functional as F\n",
        "from torch import optim\n",
        "from torchvision import datasets, transforms\n",
        "from torchvision import models as torchvision_models\n",
        "import math\n",
        "from functools import partial\n",
        "\n",
        "import torch\n",
        "import torch.nn as nn\n",
        "\n",
        "from utils import trunc_normal_\n",
        "\n",
        "import torch.nn.functional as F\n",
        "from torch import optim\n",
        "from torch.autograd import Variable"
      ],
      "execution_count": 4,
      "outputs": []
    },
    {
      "cell_type": "markdown",
      "metadata": {
        "id": "bWKQAhWmlc2i"
      },
      "source": [
        "# Import utils"
      ]
    },
    {
      "cell_type": "code",
      "metadata": {
        "id": "G_XCPkVNlfmL"
      },
      "source": [
        "os.chdir(\"/content/drive/MyDrive/scRNA/128+128_10subsets\")"
      ],
      "execution_count": 2,
      "outputs": []
    },
    {
      "cell_type": "code",
      "metadata": {
        "id": "EmhSM4hQlZ6d"
      },
      "source": [
        "import utils\n",
        "import vision_transformer as vits_new"
      ],
      "execution_count": 3,
      "outputs": []
    },
    {
      "cell_type": "markdown",
      "metadata": {
        "id": "4qPR__3KP2_G"
      },
      "source": [
        "# Set paths"
      ]
    },
    {
      "cell_type": "code",
      "metadata": {
        "id": "uDpl-9ZdP4o3"
      },
      "source": [
        "data_path = \"/content/drive/MyDrive/scRNA/pseudo_data/train\""
      ],
      "execution_count": 32,
      "outputs": []
    },
    {
      "cell_type": "markdown",
      "metadata": {
        "id": "4foecITrokAl"
      },
      "source": [
        "# Helpers"
      ]
    },
    {
      "cell_type": "markdown",
      "metadata": {
        "id": "nzxN6csqolk7"
      },
      "source": [
        "## Plot gradient"
      ]
    },
    {
      "cell_type": "code",
      "metadata": {
        "id": "u_DSDgVyojk3"
      },
      "source": [
        "# To visualize the gradient flow\n",
        "from matplotlib import pyplot as plt\n",
        "def plot_grad_flow(named_parameters):\n",
        "    ave_grads = []\n",
        "    layers = []\n",
        "    for n, p in named_parameters:\n",
        "        if(p.requires_grad) and (\"bias\" not in n):\n",
        "            layers.append(n)\n",
        "            ave_grads.append(p.grad.abs().mean())\n",
        "    plt.plot(ave_grads, alpha=0.3, color=\"b\")\n",
        "    plt.hlines(0, 0, len(ave_grads)+1, linewidth=1, color=\"k\" )\n",
        "    plt.xticks(range(0,len(ave_grads), 1), layers, rotation=\"vertical\")\n",
        "    plt.xlim(xmin=0, xmax=len(ave_grads))\n",
        "    plt.xlabel(\"Layers\")\n",
        "    plt.ylabel(\"average gradient\")\n",
        "    plt.title(\"Gradient flow\")\n",
        "    plt.grid(True)"
      ],
      "execution_count": 6,
      "outputs": []
    },
    {
      "cell_type": "markdown",
      "metadata": {
        "id": "fKSNdeSBMwLD"
      },
      "source": [
        "# Load data"
      ]
    },
    {
      "cell_type": "code",
      "metadata": {
        "id": "rvo0ic2XMsSU"
      },
      "source": [
        "class scRNACSV(Dataset):\n",
        "  def __init__(self, expression_matrix_path, perturb_list, transform = None, target_transform=None):\n",
        "    self.expr = pd.DataFrame()\n",
        "    self.samples = []\n",
        "    self.labels = []\n",
        "    for number_lab, label in zip(range(len(perturb_list)),perturb_list):\n",
        "      path = expression_matrix_path + \"/\" + label + \".csv\"\n",
        "      df = pd.read_csv(path, index_col = 0)\n",
        "      self.expr = pd.merge(self.expr, df, how = \"outer\", left_index = True, right_index = True)\n",
        "      self.samples = self.samples + list(df.columns)\n",
        "      lb = [number_lab for i in range(len(list(df.columns)))]\n",
        "      self.labels = self.labels + lb\n",
        "      print(f\"This is label {label}, the number_lab is {number_lab}, there are {len(list(df.columns))} cells in this class\")\n",
        "    self.transform = transform\n",
        "    self.target_transform = target_transform\n",
        "    self.samples = [(self.samples[i],self.labels[i]) for i in range(len(self.labels))]\n",
        "  def __len__(self):\n",
        "    return self.expr.shape[1]\n",
        "\n",
        "  def __getitem__(self,idx):\n",
        "    one_cell = torch.from_numpy(np.array(self.expr.iloc[:,idx]))\n",
        "    ret = self.transform(one_cell)\n",
        "    return ret, self.labels[idx]\n",
        "    #return one_cell, self.labels[idx]"
      ],
      "execution_count": 11,
      "outputs": []
    },
    {
      "cell_type": "markdown",
      "metadata": {
        "id": "Q3Xpc-spPJtf"
      },
      "source": [
        "## Augmentation"
      ]
    },
    {
      "cell_type": "code",
      "metadata": {
        "id": "GWPKe2m2PHwf"
      },
      "source": [
        "class DINO_Crop(object):\n",
        "  def __init__(self, global_crops_scale, local_crops_scale, local_crops_number):\n",
        "    self.global_crops_scale = global_crops_scale\n",
        "    self.local_crops_scale = local_crops_scale\n",
        "    self.local_crops_number = local_crops_number\n",
        "    \n",
        "  def __call__(self, x):\n",
        "    inputs = []\n",
        "    data = x  \n",
        "    length = x.shape[0]\n",
        "    \n",
        "    global_size = int(length * self.global_crops_scale)\n",
        "    global_index_1 = np.random.choice(length, size = global_size, replace = False)\n",
        "    \n",
        "    global_corr_1 = torch.from_numpy(global_index_1)\n",
        "    \n",
        "    global_data_1 = data[global_index_1,]\n",
        "    global_input_1 = torch.cat([global_data_1, global_corr_1]).float()\n",
        "    return global_input_1"
      ],
      "execution_count": 12,
      "outputs": []
    },
    {
      "cell_type": "code",
      "metadata": {
        "id": "5wTg2FBvQDSk"
      },
      "source": [
        "perturb_list = [\"A2M\", \"CCND1\"]"
      ],
      "execution_count": 13,
      "outputs": []
    },
    {
      "cell_type": "code",
      "metadata": {
        "id": "FiTH5EqnMHBs"
      },
      "source": [
        "perturb_list = [\"0\", \"1\"]"
      ],
      "execution_count": 31,
      "outputs": []
    },
    {
      "cell_type": "code",
      "metadata": {
        "id": "YqTX7wELQULn"
      },
      "source": [
        "crop = DINO_Crop(1,0.25,8)"
      ],
      "execution_count": 33,
      "outputs": []
    },
    {
      "cell_type": "code",
      "metadata": {
        "colab": {
          "base_uri": "https://localhost:8080/"
        },
        "id": "TiQnzBQ9Pyqi",
        "outputId": "63a6337a-87f2-436c-cc4f-e5f00cf0c59f"
      },
      "source": [
        "train_dataset = scRNACSV(data_path, perturb_list = perturb_list, transform = crop)"
      ],
      "execution_count": 55,
      "outputs": [
        {
          "output_type": "stream",
          "text": [
            "This is label 0, the number_lab is 0, there are 400 cells in this class\n",
            "This is label 1, the number_lab is 1, there are 400 cells in this class\n"
          ],
          "name": "stdout"
        }
      ]
    },
    {
      "cell_type": "code",
      "metadata": {
        "id": "L9WI_boUt4Ow"
      },
      "source": [
        "x, y = train_dataset[503]"
      ],
      "execution_count": 56,
      "outputs": []
    },
    {
      "cell_type": "code",
      "metadata": {
        "colab": {
          "base_uri": "https://localhost:8080/"
        },
        "id": "5LlsL7Y6t7mW",
        "outputId": "77dd01c1-206f-4ef2-c4fe-8b3dc5667903"
      },
      "source": [
        "x.shape"
      ],
      "execution_count": 57,
      "outputs": [
        {
          "output_type": "execute_result",
          "data": {
            "text/plain": [
              "torch.Size([4000])"
            ]
          },
          "metadata": {
            "tags": []
          },
          "execution_count": 57
        }
      ]
    },
    {
      "cell_type": "code",
      "metadata": {
        "colab": {
          "base_uri": "https://localhost:8080/"
        },
        "id": "hYUlCSpvyZ-A",
        "outputId": "53ed2460-fca9-4899-ad1a-37a23324cb81"
      },
      "source": [
        "x"
      ],
      "execution_count": 58,
      "outputs": [
        {
          "output_type": "execute_result",
          "data": {
            "text/plain": [
              "tensor([  1.,   1.,   1.,  ..., 788., 991., 923.])"
            ]
          },
          "metadata": {
            "tags": []
          },
          "execution_count": 58
        }
      ]
    },
    {
      "cell_type": "code",
      "metadata": {
        "colab": {
          "base_uri": "https://localhost:8080/"
        },
        "id": "JZ83kPlHt9Dx",
        "outputId": "24fcc16a-da5d-41f7-f088-cabb6f3480a6"
      },
      "source": [
        "y"
      ],
      "execution_count": 19,
      "outputs": [
        {
          "output_type": "execute_result",
          "data": {
            "text/plain": [
              "1"
            ]
          },
          "metadata": {
            "tags": []
          },
          "execution_count": 19
        }
      ]
    },
    {
      "cell_type": "code",
      "metadata": {
        "id": "DOeVIbH8myIk"
      },
      "source": [
        "#sampler = torch.utils.data.DistributedSampler(train_dataset, shuffle=True)\n",
        "    \n",
        "train_loader = torch.utils.data.DataLoader(train_dataset, batch_size=16, shuffle = True)"
      ],
      "execution_count": 37,
      "outputs": []
    },
    {
      "cell_type": "code",
      "metadata": {
        "id": "FbWNnmx_pULi"
      },
      "source": [
        "test_path = \"/content/drive/MyDrive/scRNA/pseudo_data/test\""
      ],
      "execution_count": 38,
      "outputs": []
    },
    {
      "cell_type": "code",
      "metadata": {
        "id": "YQsX2-UdpQdc",
        "colab": {
          "base_uri": "https://localhost:8080/"
        },
        "outputId": "5712cb6a-bfc8-403d-b1fc-0071e6632bec"
      },
      "source": [
        "test_dataset = scRNACSV(test_path, perturb_list = perturb_list, transform = crop)"
      ],
      "execution_count": 39,
      "outputs": [
        {
          "output_type": "stream",
          "text": [
            "This is label 0, the number_lab is 0, there are 100 cells in this class\n",
            "This is label 1, the number_lab is 1, there are 100 cells in this class\n"
          ],
          "name": "stdout"
        }
      ]
    },
    {
      "cell_type": "code",
      "metadata": {
        "id": "z-YHBNH8pd8l"
      },
      "source": [
        "test_loader = torch.utils.data.DataLoader(test_dataset, batch_size=16, shuffle = True)"
      ],
      "execution_count": 40,
      "outputs": []
    },
    {
      "cell_type": "code",
      "metadata": {
        "colab": {
          "base_uri": "https://localhost:8080/"
        },
        "id": "VkD1GtY4KyVr",
        "outputId": "95a84720-da0a-439c-c479-87664b9b6551"
      },
      "source": [
        "for i, data in enumerate(train_loader, 0):\n",
        "  inputs, labels = data\n",
        "  print(inputs.shape)\n",
        "  print(labels)\n",
        "  break"
      ],
      "execution_count": 30,
      "outputs": [
        {
          "output_type": "stream",
          "text": [
            "torch.Size([16, 4000])\n",
            "tensor([0, 0, 1, 1, 1, 1, 0, 1, 0, 1, 1, 0, 0, 1, 1, 0])\n"
          ],
          "name": "stdout"
        }
      ]
    },
    {
      "cell_type": "markdown",
      "metadata": {
        "id": "FNfb21bpiu75"
      },
      "source": [
        "# Prepare Model"
      ]
    },
    {
      "cell_type": "code",
      "metadata": {
        "id": "57tQ3Y8fiw0k"
      },
      "source": [
        "class VisionTransformer(nn.Module):\n",
        "  def __init__(self, img_size=[224],in_chans=1, num_classes=2, embed_dim=129, mlp_ratio=4., depth = 1, qkv_bias=False, qk_scale=None, drop_rate=0., attn_drop_rate=0.,\n",
        "                 drop_path_rate=0., norm_layer=nn.LayerNorm, **kwargs):\n",
        "    super().__init__()\n",
        "\n",
        "    # Number of features at the end of this module\n",
        "    self.num_features = self.embed_dim = embed_dim # =3 in this golden truth modle\n",
        "    \n",
        "    # Initiate the [CLS] token and make it not learnable\n",
        "    self.cls_token = nn.Parameter(torch.from_numpy(-1* np.ones((1,1,embed_dim)))).float()\n",
        "    #self.cls_token = nn.Parameter(torch.from_numpy(np.array([[[0.0,-1.0,-1.0]]])).float())\n",
        "    self.pos_drop = nn.Dropout(p=drop_rate)\n",
        "    \n",
        "    # Set SDG?\n",
        "    #dpr = [x.item() for x in torch.linspace(0, drop_path_rate, 1)]  # stochastic depth decay rule\n",
        "    \n",
        "    # Set Norm layer\n",
        "    self.norm = norm_layer(embed_dim)\n",
        "\n",
        "    # Set the blk \n",
        "    dpr = [x.item() for x in torch.linspace(0, drop_path_rate, depth)]  # stochastic depth decay rule\n",
        "    self.blocks = nn.ModuleList([\n",
        "            Block(\n",
        "                dim=embed_dim, num_heads= 1, mlp_ratio=mlp_ratio, qkv_bias=qkv_bias, qk_scale=qk_scale,\n",
        "                drop=drop_rate, attn_drop=attn_drop_rate, drop_path=dpr[i], norm_layer=norm_layer)\n",
        "            for i in range(depth)])\n",
        "    # This head???\n",
        "    self.head = nn.Linear(embed_dim, num_classes)\n",
        "    self.Embedding = nn.Embedding(2000, 128)\n",
        "    # SoftMax\n",
        "    #self.softMax = F.log_softmax(10)\n",
        "    #trunc_normal_(self.cls_token, std=.02)\n",
        "    self.apply(self._init_weights) #???\n",
        "    self.act = nn.LeakyReLU()\n",
        "    self.exprProj = nn.Linear(1,1)\n",
        "    \n",
        "    \n",
        "\n",
        "  def _init_weights(self, m):\n",
        "    if isinstance(m, nn.Linear):\n",
        "      trunc_normal_(m.weight, std=.02)\n",
        "      if isinstance(m, nn.Linear) and m.bias is not None:\n",
        "        nn.init.constant_(m.bias, 0)\n",
        "    elif isinstance(m, nn.LayerNorm):\n",
        "      nn.init.constant_(m.bias, 0)\n",
        "      nn.init.constant_(m.weight, 1.0)\n",
        "\n",
        "  def prepare_tokens(self, x):\n",
        "    B, L = x.shape\n",
        "    x = self.ReformatInput_cat(x)\n",
        "    # add the [CLS] token to the embed patch tokens\n",
        "    cls_tokens = self.cls_token.expand(B, -1, -1).cuda()\n",
        "    x = torch.cat((cls_tokens, x), dim=1)\n",
        "    # print(f\"Here is the device of x {x.device}\")\n",
        "    #print(f\"Here is the device of cls_tokens {cls_token.device}\")\n",
        "    return self.pos_drop(x)\n",
        "  def ReformatInput_cat(self, x):\n",
        "    # Split the index part and the expression data part\n",
        "    # x dimension now B x G*2 (B is the batch size, G is the number of genes sampled)\n",
        "    B, G_2 = x.shape\n",
        "    G = int(G_2/2)\n",
        "    expr, index = torch.split(x, (G,G), dim = 1)\n",
        "    # expr and index are both B x G now\n",
        "    #print(expr.shape)\n",
        "    geneEmbedding = self.Embedding(index.int())\n",
        "    #geneEmbedding = index.reshape(B, G, 1)\n",
        "  \n",
        "    # geneEmbedding is B x G x Embed_dim\n",
        "    #print(geneEmbedding.shape)\n",
        "    # Reshape the expr to add one dimension to match the geneEmbedding\n",
        "    expr = expr.reshape(B, G, 1)\n",
        "    #print(\"Here is the \")\n",
        "    expr = self.exprProj(expr)\n",
        "  \n",
        "    # cat the expr and gene Embedding\n",
        "    x = torch.cat((expr, geneEmbedding), dim = 2)\n",
        "    # print(x.shape)\n",
        "    return x\n",
        "  def forward(self, x):\n",
        "    #print(x.shape)\n",
        "    B, L = x.shape\n",
        "    x = self.prepare_tokens(x)\n",
        "    #print(x.grad)\n",
        "    #print(\"Here is the original data:\")\n",
        "    #print(x[0:3])\n",
        "    for blk in self.blocks:\n",
        "      x = blk(x)\n",
        "    x = self.norm(x)\n",
        "    #print(\"Here is the data before mean:\")\n",
        "    #print(x[0:3])\n",
        "    #x = torch.mean(x, dim = 1).reshape(B,3)\n",
        "    #print(\"Here is the output before the projection:\")\n",
        "    #print(x[0:3])\n",
        "    # Use class token\n",
        "    x = self.head(x[:,0])\n",
        "    #print(x.shape)\n",
        "    x = self.act(x)\n",
        "    #x = self.head(x)\n",
        "    #print(x.shape)\n",
        "    #x = x.softmax(dim = -1)\n",
        "    #print(x.grad)\n",
        "    return x\n",
        "  def get_last_selfattention(self, x):\n",
        "        x = self.prepare_tokens(x)\n",
        "        for i, blk in enumerate(self.blocks):\n",
        "            if i < len(self.blocks) - 1:\n",
        "                x = blk(x)\n",
        "            else:\n",
        "                # return attention of the last block\n",
        "                return blk(x, return_attention=True)\n",
        "\n",
        "  def get_intermediate_layers(self, x, n=1):\n",
        "        x = self.prepare_tokens(x)\n",
        "        # we return the output tokens from the `n` last blocks\n",
        "        output = []\n",
        "        for i, blk in enumerate(self.blocks):\n",
        "            x = blk(x)\n",
        "            if len(self.blocks) - i <= n:\n",
        "                output.append(self.norm(x))\n",
        "        return output"
      ],
      "execution_count": 50,
      "outputs": []
    },
    {
      "cell_type": "code",
      "metadata": {
        "id": "r22G_2OcjJdv"
      },
      "source": [
        "def vit_tiny(patch_size=16):\n",
        "    model = VisionTransformer(\n",
        "        patch_size=patch_size, embed_dim=129, depth=3, num_heads=1, mlp_ratio=4,\n",
        "        qkv_bias=True, norm_layer=partial(nn.LayerNorm, eps=1e-6))\n",
        "    return model"
      ],
      "execution_count": 53,
      "outputs": []
    },
    {
      "cell_type": "markdown",
      "metadata": {
        "id": "cSNaOcJbjyqq"
      },
      "source": [
        "## Block\n"
      ]
    },
    {
      "cell_type": "code",
      "metadata": {
        "id": "eB3umwnXjz4S"
      },
      "source": [
        "class Block(nn.Module):\n",
        "    def __init__(self, dim, num_heads, mlp_ratio=4., qkv_bias=False, qk_scale=None, drop=0., attn_drop=0.,\n",
        "                 drop_path=0., act_layer=nn.GELU, norm_layer=nn.LayerNorm):\n",
        "        super().__init__()\n",
        "        self.norm1 = norm_layer(dim)\n",
        "        self.attn = Attention(\n",
        "            dim, num_heads=num_heads, qkv_bias=qkv_bias, qk_scale=qk_scale, attn_drop=attn_drop, proj_drop=drop)\n",
        "        self.drop_path = DropPath(drop_path) if drop_path > 0. else nn.Identity()\n",
        "        self.norm2 = norm_layer(dim)\n",
        "        mlp_hidden_dim = int(dim * mlp_ratio)\n",
        "        self.mlp = Mlp(in_features=dim, hidden_features=mlp_hidden_dim, act_layer=act_layer, drop=drop)\n",
        "\n",
        "    def forward(self, x, return_attention=False):\n",
        "        y, attn = self.attn(self.norm1(x))\n",
        "        if return_attention:\n",
        "            return attn\n",
        "        x = x + self.drop_path(y)\n",
        "        x = x + self.drop_path(self.mlp(self.norm2(x)))\n",
        "        return x"
      ],
      "execution_count": 47,
      "outputs": []
    },
    {
      "cell_type": "markdown",
      "metadata": {
        "id": "cVFa6OO_j3Sr"
      },
      "source": [
        "## Attention"
      ]
    },
    {
      "cell_type": "code",
      "metadata": {
        "id": "HUMfPTbtkth_"
      },
      "source": [
        "class Attention(nn.Module):\n",
        "    def __init__(self, dim, num_heads=8, qkv_bias=False, qk_scale=None, attn_drop=0., proj_drop=0.):\n",
        "        super().__init__()\n",
        "        self.num_heads = num_heads\n",
        "        head_dim = dim // num_heads\n",
        "        self.scale = qk_scale or head_dim ** -0.5\n",
        "\n",
        "        self.qkv = nn.Linear(dim, dim * 3, bias=qkv_bias)\n",
        "        self.attn_drop = nn.Dropout(attn_drop)\n",
        "        self.proj = nn.Linear(dim, dim)\n",
        "        self.proj_drop = nn.Dropout(proj_drop)\n",
        "\n",
        "    def forward(self, x):\n",
        "        B, N, C = x.shape\n",
        "        qkv = self.qkv(x).reshape(B, N, 3, self.num_heads, C // self.num_heads).permute(2, 0, 3, 1, 4)\n",
        "        q, k, v = qkv[0], qkv[1], qkv[2]\n",
        "\n",
        "        attn = (q @ k.transpose(-2, -1)) * self.scale\n",
        "        attn = attn.softmax(dim=-1)\n",
        "        attn = self.attn_drop(attn)\n",
        "\n",
        "        x = (attn @ v).transpose(1, 2).reshape(B, N, C)\n",
        "        x = self.proj(x)\n",
        "        x = self.proj_drop(x)\n",
        "        return x, attn"
      ],
      "execution_count": 48,
      "outputs": []
    },
    {
      "cell_type": "markdown",
      "metadata": {
        "id": "2M1PahIplDB9"
      },
      "source": [
        "## MLP"
      ]
    },
    {
      "cell_type": "code",
      "metadata": {
        "id": "aCU-8APEkwEl"
      },
      "source": [
        "class Mlp(nn.Module):\n",
        "    def __init__(self, in_features, hidden_features=None, out_features=None, act_layer=nn.GELU, drop=0.):\n",
        "        super().__init__()\n",
        "        out_features = out_features or in_features\n",
        "        hidden_features = hidden_features or in_features\n",
        "        self.fc1 = nn.Linear(in_features, hidden_features)\n",
        "        self.act = act_layer()\n",
        "        self.fc2 = nn.Linear(hidden_features, out_features)\n",
        "        self.drop = nn.Dropout(drop)\n",
        "\n",
        "    def forward(self, x):\n",
        "        x = self.fc1(x)\n",
        "        x = self.act(x)\n",
        "        x = self.drop(x)\n",
        "        x = self.fc2(x)\n",
        "        x = self.drop(x)\n",
        "        return x"
      ],
      "execution_count": 49,
      "outputs": []
    },
    {
      "cell_type": "markdown",
      "metadata": {
        "id": "s5DOEiY-Qna5"
      },
      "source": [
        "# Train one Epoch"
      ]
    },
    {
      "cell_type": "code",
      "metadata": {
        "id": "EtjlHLvgQnGN"
      },
      "source": [
        "def train_one_epoch(trainloader, simple_model, epoch, optimizer):\n",
        "  running_loss = 0.0\n",
        "  simple_model.train()\n",
        "  lossF = nn.CrossEntropyLoss()\n",
        "  sum_loss = 0\n",
        "  num = 0\n",
        "  for batch_idx, (data, label) in enumerate(trainloader):\n",
        "    data, label = Variable(data).cuda(), Variable(label).cuda()\n",
        "    optimizer.zero_grad()\n",
        "    output = simple_model(data)\n",
        "    loss = lossF(output, label)\n",
        "    sum_loss += loss\n",
        "    num += 1\n",
        "    loss.backward()\n",
        "    optimizer.step()\n",
        "    plot_grad_flow(simple_model.named_parameters())\n",
        "    if batch_idx % 100 == 0:\n",
        "      print(\"Train Epoch: {} [{}/{} ({:.0f}%)]\\tLoss {:.6f}\".format(\n",
        "                epoch, batch_idx*len(data), len(trainloader.dataset),\n",
        "                100.*batch_idx/len(trainloader), loss.item()))\n",
        "  loss_stat = (sum_loss/num).detach().cpu().numpy().item()\n",
        "  log_stats = {**{f'Average Loss': loss_stat}, 'epoch': epoch + 1}\n",
        "  with (Path(output_dir) / \"loss.txt\").open(\"a\") as f: f.write(json.dumps(log_stats) + \"\\n\")"
      ],
      "execution_count": 43,
      "outputs": []
    },
    {
      "cell_type": "markdown",
      "metadata": {
        "id": "_nXUHx8Mfcv3"
      },
      "source": [
        "# Train"
      ]
    },
    {
      "cell_type": "code",
      "metadata": {
        "id": "qozp1HxPfb98"
      },
      "source": [
        "os.chdir(\"/content/drive/MyDrive/scRNA/Supervised_results\")"
      ],
      "execution_count": 41,
      "outputs": []
    },
    {
      "cell_type": "code",
      "metadata": {
        "id": "1ezR8ybJq3s-"
      },
      "source": [
        "!rm -r ./128+128_2subsets_hvg"
      ],
      "execution_count": 25,
      "outputs": []
    },
    {
      "cell_type": "code",
      "metadata": {
        "colab": {
          "base_uri": "https://localhost:8080/",
          "height": 961
        },
        "id": "WkqnsAYDRVkQ",
        "outputId": "92a80f9a-a6b7-4cd8-a19c-94442772836b"
      },
      "source": [
        "output_dir = './1+128_2pseudo' ### customized your own output_dir\n",
        "model = vit_tiny()\n",
        "optimizer = optim.Adam(model.parameters(), lr = 1e-4)\n",
        "model.cuda()\n",
        "Path(output_dir).mkdir(parents=True, exist_ok=True)\n",
        "saveckp_freq = 1\n",
        "to_restore = {\"epoch\": 0}\n",
        "utils.restart_from_checkpoint(\n",
        "    os.path.join(output_dir, \"checkpoint.pth\"),\n",
        "    run_variables=to_restore,\n",
        "    model=model,\n",
        "    optimizer=optimizer,\n",
        ")\n",
        "start_epoch = to_restore[\"epoch\"]\n",
        "for epoch in range(start_epoch, 150):\n",
        "    train_one_epoch(train_loader, model, epoch, optimizer)\n",
        "    # ============ writing logs ... ============\n",
        "    save_dict = {\n",
        "        'model': model.state_dict(),\n",
        "        'optimizer': optimizer.state_dict(),\n",
        "        'epoch': epoch + 1,\n",
        "    }\n",
        "    # Train loop\n",
        "    if epoch % 10 == 0:\n",
        "      correct, total = 0, 0\n",
        "    \n",
        "      with torch.no_grad():\n",
        "        # Iterate over the test data and generate predictions\n",
        "          for i, data in enumerate(train_loader, 0):\n",
        "          # Get inputs\n",
        "            inputs, targets = data\n",
        "            inputs = inputs.cuda()\n",
        "            targets = targets.cuda()\n",
        "          # Generate outputs\n",
        "            model.eval()\n",
        "            outputs = model(inputs)\n",
        "          # Set total and correct\n",
        "            _, predicted = torch.max(outputs.data, 1)\n",
        "            total += targets.size(0)\n",
        "            correct += (predicted == targets).sum().item()\n",
        "            # Print accuracy\n",
        "          train_acc = \"%f %%\" %(100 * correct / total)\n",
        "          print(train_acc)\n",
        "    # Testing loop\n",
        "      correct, total = 0, 0\n",
        "      with torch.no_grad():\n",
        "        # Iterate over the test data and generate predictions\n",
        "          for i, data in enumerate(test_loader, 0):\n",
        "          # Get inputs\n",
        "            inputs, targets = data\n",
        "            inputs = inputs.cuda()\n",
        "            targets = targets.cuda()\n",
        "          # Generate outputs\n",
        "            model.eval()\n",
        "            outputs = model(inputs)\n",
        "          # Set total and correct\n",
        "            _, predicted = torch.max(outputs.data, 1)\n",
        "            total += targets.size(0)\n",
        "            correct += (predicted == targets).sum().item()\n",
        "        # Print accuracy\n",
        "          test_acc =  \"%f %%\" %(100 * correct / total)\n",
        "          print(test_acc)\n",
        "      acc_stats = {\"Training Accuracy\": train_acc, \"Testing Accuracy\":  test_acc, \"epoch\": epoch+1}\n",
        "      with (Path(output_dir) / \"acc.txt\").open(\"a\") as f: f.write(json.dumps(acc_stats) + \"\\n\")\n",
        "    utils.save_on_master(save_dict, os.path.join(output_dir, 'checkpoint.pth'))\n",
        "    if saveckp_freq and epoch % saveckp_freq == 0:\n",
        "        utils.save_on_master(save_dict, os.path.join(output_dir, f'checkpoint{epoch:04}.pth'))"
      ],
      "execution_count": 54,
      "outputs": [
        {
          "output_type": "stream",
          "text": [
            "Train Epoch: 0 [0/800 (0%)]\tLoss 0.693420\n",
            "100.000000 %\n",
            "100.000000 %\n",
            "Train Epoch: 1 [0/800 (0%)]\tLoss 0.089476\n",
            "Train Epoch: 2 [0/800 (0%)]\tLoss 0.045499\n"
          ],
          "name": "stdout"
        },
        {
          "output_type": "error",
          "ename": "KeyboardInterrupt",
          "evalue": "ignored",
          "traceback": [
            "\u001b[0;31m---------------------------------------------------------------------------\u001b[0m",
            "\u001b[0;31mKeyboardInterrupt\u001b[0m                         Traceback (most recent call last)",
            "\u001b[0;32m<ipython-input-54-2c8abff95f0a>\u001b[0m in \u001b[0;36m<module>\u001b[0;34m()\u001b[0m\n\u001b[1;32m     14\u001b[0m \u001b[0mstart_epoch\u001b[0m \u001b[0;34m=\u001b[0m \u001b[0mto_restore\u001b[0m\u001b[0;34m[\u001b[0m\u001b[0;34m\"epoch\"\u001b[0m\u001b[0;34m]\u001b[0m\u001b[0;34m\u001b[0m\u001b[0;34m\u001b[0m\u001b[0m\n\u001b[1;32m     15\u001b[0m \u001b[0;32mfor\u001b[0m \u001b[0mepoch\u001b[0m \u001b[0;32min\u001b[0m \u001b[0mrange\u001b[0m\u001b[0;34m(\u001b[0m\u001b[0mstart_epoch\u001b[0m\u001b[0;34m,\u001b[0m \u001b[0;36m150\u001b[0m\u001b[0;34m)\u001b[0m\u001b[0;34m:\u001b[0m\u001b[0;34m\u001b[0m\u001b[0;34m\u001b[0m\u001b[0m\n\u001b[0;32m---> 16\u001b[0;31m     \u001b[0mtrain_one_epoch\u001b[0m\u001b[0;34m(\u001b[0m\u001b[0mtrain_loader\u001b[0m\u001b[0;34m,\u001b[0m \u001b[0mmodel\u001b[0m\u001b[0;34m,\u001b[0m \u001b[0mepoch\u001b[0m\u001b[0;34m,\u001b[0m \u001b[0moptimizer\u001b[0m\u001b[0;34m)\u001b[0m\u001b[0;34m\u001b[0m\u001b[0;34m\u001b[0m\u001b[0m\n\u001b[0m\u001b[1;32m     17\u001b[0m     \u001b[0;31m# ============ writing logs ... ============\u001b[0m\u001b[0;34m\u001b[0m\u001b[0;34m\u001b[0m\u001b[0;34m\u001b[0m\u001b[0m\n\u001b[1;32m     18\u001b[0m     save_dict = {\n",
            "\u001b[0;32m<ipython-input-43-6062c2d4d383>\u001b[0m in \u001b[0;36mtrain_one_epoch\u001b[0;34m(trainloader, simple_model, epoch, optimizer)\u001b[0m\n\u001b[1;32m     12\u001b[0m     \u001b[0msum_loss\u001b[0m \u001b[0;34m+=\u001b[0m \u001b[0mloss\u001b[0m\u001b[0;34m\u001b[0m\u001b[0;34m\u001b[0m\u001b[0m\n\u001b[1;32m     13\u001b[0m     \u001b[0mnum\u001b[0m \u001b[0;34m+=\u001b[0m \u001b[0;36m1\u001b[0m\u001b[0;34m\u001b[0m\u001b[0;34m\u001b[0m\u001b[0m\n\u001b[0;32m---> 14\u001b[0;31m     \u001b[0mloss\u001b[0m\u001b[0;34m.\u001b[0m\u001b[0mbackward\u001b[0m\u001b[0;34m(\u001b[0m\u001b[0;34m)\u001b[0m\u001b[0;34m\u001b[0m\u001b[0;34m\u001b[0m\u001b[0m\n\u001b[0m\u001b[1;32m     15\u001b[0m     \u001b[0moptimizer\u001b[0m\u001b[0;34m.\u001b[0m\u001b[0mstep\u001b[0m\u001b[0;34m(\u001b[0m\u001b[0;34m)\u001b[0m\u001b[0;34m\u001b[0m\u001b[0;34m\u001b[0m\u001b[0m\n\u001b[1;32m     16\u001b[0m     \u001b[0mplot_grad_flow\u001b[0m\u001b[0;34m(\u001b[0m\u001b[0msimple_model\u001b[0m\u001b[0;34m.\u001b[0m\u001b[0mnamed_parameters\u001b[0m\u001b[0;34m(\u001b[0m\u001b[0;34m)\u001b[0m\u001b[0;34m)\u001b[0m\u001b[0;34m\u001b[0m\u001b[0;34m\u001b[0m\u001b[0m\n",
            "\u001b[0;32m/usr/local/lib/python3.7/dist-packages/torch/_tensor.py\u001b[0m in \u001b[0;36mbackward\u001b[0;34m(self, gradient, retain_graph, create_graph, inputs)\u001b[0m\n\u001b[1;32m    253\u001b[0m                 \u001b[0mcreate_graph\u001b[0m\u001b[0;34m=\u001b[0m\u001b[0mcreate_graph\u001b[0m\u001b[0;34m,\u001b[0m\u001b[0;34m\u001b[0m\u001b[0;34m\u001b[0m\u001b[0m\n\u001b[1;32m    254\u001b[0m                 inputs=inputs)\n\u001b[0;32m--> 255\u001b[0;31m         \u001b[0mtorch\u001b[0m\u001b[0;34m.\u001b[0m\u001b[0mautograd\u001b[0m\u001b[0;34m.\u001b[0m\u001b[0mbackward\u001b[0m\u001b[0;34m(\u001b[0m\u001b[0mself\u001b[0m\u001b[0;34m,\u001b[0m \u001b[0mgradient\u001b[0m\u001b[0;34m,\u001b[0m \u001b[0mretain_graph\u001b[0m\u001b[0;34m,\u001b[0m \u001b[0mcreate_graph\u001b[0m\u001b[0;34m,\u001b[0m \u001b[0minputs\u001b[0m\u001b[0;34m=\u001b[0m\u001b[0minputs\u001b[0m\u001b[0;34m)\u001b[0m\u001b[0;34m\u001b[0m\u001b[0;34m\u001b[0m\u001b[0m\n\u001b[0m\u001b[1;32m    256\u001b[0m \u001b[0;34m\u001b[0m\u001b[0m\n\u001b[1;32m    257\u001b[0m     \u001b[0;32mdef\u001b[0m \u001b[0mregister_hook\u001b[0m\u001b[0;34m(\u001b[0m\u001b[0mself\u001b[0m\u001b[0;34m,\u001b[0m \u001b[0mhook\u001b[0m\u001b[0;34m)\u001b[0m\u001b[0;34m:\u001b[0m\u001b[0;34m\u001b[0m\u001b[0;34m\u001b[0m\u001b[0m\n",
            "\u001b[0;32m/usr/local/lib/python3.7/dist-packages/torch/autograd/__init__.py\u001b[0m in \u001b[0;36mbackward\u001b[0;34m(tensors, grad_tensors, retain_graph, create_graph, grad_variables, inputs)\u001b[0m\n\u001b[1;32m    147\u001b[0m     Variable._execution_engine.run_backward(\n\u001b[1;32m    148\u001b[0m         \u001b[0mtensors\u001b[0m\u001b[0;34m,\u001b[0m \u001b[0mgrad_tensors_\u001b[0m\u001b[0;34m,\u001b[0m \u001b[0mretain_graph\u001b[0m\u001b[0;34m,\u001b[0m \u001b[0mcreate_graph\u001b[0m\u001b[0;34m,\u001b[0m \u001b[0minputs\u001b[0m\u001b[0;34m,\u001b[0m\u001b[0;34m\u001b[0m\u001b[0;34m\u001b[0m\u001b[0m\n\u001b[0;32m--> 149\u001b[0;31m         allow_unreachable=True, accumulate_grad=True)  # allow_unreachable flag\n\u001b[0m\u001b[1;32m    150\u001b[0m \u001b[0;34m\u001b[0m\u001b[0m\n\u001b[1;32m    151\u001b[0m \u001b[0;34m\u001b[0m\u001b[0m\n",
            "\u001b[0;31mKeyboardInterrupt\u001b[0m: "
          ]
        },
        {
          "output_type": "display_data",
          "data": {
            "image/png": "[encoded data removed]",
            "text/plain": [
              "<Figure size 432x288 with 1 Axes>"
            ]
          },
          "metadata": {
            "tags": [],
            "needs_background": "light"
          }
        }
      ]
    }
  ]
}