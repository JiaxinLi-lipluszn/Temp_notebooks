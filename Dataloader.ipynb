{
  "nbformat": 4,
  "nbformat_minor": 0,
  "metadata": {
    "colab": {
      "name": "Dataloader.ipynb",
      "provenance": [],
      "authorship_tag": "ABX9TyPCfrbORt5BsCWpE3k1n2yI",
      "include_colab_link": true
    },
    "kernelspec": {
      "name": "python3",
      "display_name": "Python 3"
    },
    "language_info": {
      "name": "python"
    }
  },
  "cells": [
    {
      "cell_type": "markdown",
      "metadata": {
        "id": "view-in-github",
        "colab_type": "text"
      },
      "source": [
        "<a href=\"https://colab.research.google.com/github/JiaxinLi-lipluszn/Temp_notebooks/blob/main/Dataloader.ipynb\" target=\"_parent\"><img src=\"https://colab.research.google.com/assets/colab-badge.svg\" alt=\"Open In Colab\"/></a>"
      ]
    },
    {
      "cell_type": "code",
      "metadata": {
        "colab": {
          "base_uri": "https://localhost:8080/"
        },
        "id": "ECidqd6enez2",
        "outputId": "a8930deb-46fb-4f91-a769-aa16699bd0f5"
      },
      "source": [
        "from google.colab import drive\n",
        "drive.mount('/content/drive')"
      ],
      "execution_count": 1,
      "outputs": [
        {
          "output_type": "stream",
          "text": [
            "Mounted at /content/drive\n"
          ],
          "name": "stdout"
        }
      ]
    },
    {
      "cell_type": "markdown",
      "metadata": {
        "id": "anCPcRx6obfd"
      },
      "source": [
        "# Import "
      ]
    },
    {
      "cell_type": "code",
      "metadata": {
        "id": "yf5I4uZ9oa5q"
      },
      "source": [
        "import os\n",
        "import sys\n",
        "import argparse\n",
        "\n",
        "import torch\n",
        "from torch import nn\n",
        "import torch.distributed as dist\n",
        "import torch.backends.cudnn as cudnn\n",
        "from torchvision import datasets\n",
        "from torchvision import transforms as pth_transforms\n",
        "from torchvision import models as torchvision_models\n",
        "import pandas as pd\n",
        "from torch.utils.data import Dataset"
      ],
      "execution_count": 31,
      "outputs": []
    },
    {
      "cell_type": "markdown",
      "metadata": {
        "id": "q8KKiHIMn1TC"
      },
      "source": [
        "# Try the ImageFolder dataloader"
      ]
    },
    {
      "cell_type": "markdown",
      "metadata": {
        "id": "ycaRORq0n77e"
      },
      "source": [
        "## Unzip the FashiMNIST into content folder"
      ]
    },
    {
      "cell_type": "code",
      "metadata": {
        "id": "LnkiQekjnycm"
      },
      "source": [
        "!unzip /content/drive/MyDrive/data.zip -d /content/ \n",
        "!mv /content/data/test /content/data/val"
      ],
      "execution_count": null,
      "outputs": []
    },
    {
      "cell_type": "code",
      "metadata": {
        "id": "kiz9CSosoJuf"
      },
      "source": [
        "class ReturnIndexDataset(datasets.ImageFolder):\n",
        "    def __getitem__(self, idx):\n",
        "        img, lab = super(ReturnIndexDataset, self).__getitem__(idx)\n",
        "        return img, idx"
      ],
      "execution_count": 5,
      "outputs": []
    },
    {
      "cell_type": "code",
      "metadata": {
        "colab": {
          "base_uri": "https://localhost:8080/"
        },
        "id": "sep4RbsJom9R",
        "outputId": "93f0652f-0307-4076-b6f5-39d0e6634191"
      },
      "source": [
        "transform = pth_transforms.Compose([\n",
        "        pth_transforms.Resize(256, interpolation=3),\n",
        "        pth_transforms.CenterCrop(224),\n",
        "        pth_transforms.ToTensor(),\n",
        "        pth_transforms.Normalize((0.485, 0.456, 0.406), (0.229, 0.224, 0.225)),\n",
        "    ])\n",
        "dataset_train = ReturnIndexDataset(\"/content/data/train/\", transform=transform)\n",
        "dataset_val = ReturnIndexDataset(\"/content/data/val/\", transform=transform)\n",
        "   "
      ],
      "execution_count": 6,
      "outputs": [
        {
          "output_type": "stream",
          "text": [
            "/usr/local/lib/python3.7/dist-packages/torchvision/transforms/transforms.py:281: UserWarning: Argument interpolation should be of type InterpolationMode instead of int. Please, use InterpolationMode enum.\n",
            "  \"Argument interpolation should be of type InterpolationMode instead of int. \"\n"
          ],
          "name": "stderr"
        }
      ]
    },
    {
      "cell_type": "code",
      "metadata": {
        "id": "YO5tC5sGrML1"
      },
      "source": [
        "x, y = dataset_train[1000]"
      ],
      "execution_count": 15,
      "outputs": []
    },
    {
      "cell_type": "code",
      "metadata": {
        "colab": {
          "base_uri": "https://localhost:8080/"
        },
        "id": "ccljYmkBrPeW",
        "outputId": "7ec292f8-6bbc-4d9f-9b74-bf185cf375b8"
      },
      "source": [
        "y"
      ],
      "execution_count": 16,
      "outputs": [
        {
          "output_type": "execute_result",
          "data": {
            "text/plain": [
              "1000"
            ]
          },
          "metadata": {
            "tags": []
          },
          "execution_count": 16
        }
      ]
    },
    {
      "cell_type": "code",
      "metadata": {
        "colab": {
          "base_uri": "https://localhost:8080/"
        },
        "id": "s2NlN83eo3cs",
        "outputId": "a9cc0c2d-4c7c-4577-a317-c06440f94572"
      },
      "source": [
        "dataset_val.samples[9999]"
      ],
      "execution_count": 11,
      "outputs": [
        {
          "output_type": "execute_result",
          "data": {
            "text/plain": [
              "('/content/data/val/9/9995.png', 9)"
            ]
          },
          "metadata": {
            "tags": []
          },
          "execution_count": 11
        }
      ]
    },
    {
      "cell_type": "markdown",
      "metadata": {
        "id": "5NvkGFmotGdT"
      },
      "source": [
        "# My Implementation"
      ]
    },
    {
      "cell_type": "code",
      "metadata": {
        "id": "0oqYlxLktEXD"
      },
      "source": [
        "class DINO_Crop(object):\n",
        "  def __init__(self, global_crops_scale, local_crops_scale, local_crops_number):\n",
        "    self.global_crops_scale = global_crops_scale\n",
        "    self.local_crops_scale = local_crops_scale\n",
        "    self.local_crops_number = local_crops_number\n",
        "    \n",
        "  def __call__(self, x):\n",
        "    inputs = []\n",
        "    data = x  \n",
        "    #print(data.shape)\n",
        "    length = x.shape[0]\n",
        "    \n",
        "    global_size = int(length * self.global_crops_scale)\n",
        "    #local_size = int(length * self.local_crops_scale)\n",
        "    global_index_1 = np.random.choice(length, size = global_size, replace = False)\n",
        "    #global_index_2 = np.random.choice(length, size = global_size, replace = False)\n",
        "    \n",
        "    global_corr_1 = torch.from_numpy(global_index_1)\n",
        "    #global_corr_2 = torch.from_numpy(global_index_2)\n",
        "    \n",
        "    global_data_1 = data[global_index_1,]\n",
        "    #global_data_2 = data[global_index_2,]\n",
        "    #print(data.shape)\n",
        "    #print(corr.shape)\n",
        "    #labels = torch.from_numpy(label.item()*np.ones(shape = (784,1))).float()\n",
        "    global_input_1 = torch.cat([global_data_1, global_corr_1]).float()\n",
        "    #global_input_2 = torch.cat([global_data_2, global_corr_2]).float()\n",
        "    #nputs.append(global_input_1)\n",
        "    #inputs.append(global_input_2)\n",
        "    '''\n",
        "    for i in range(self.local_crops_number):\n",
        "      index = np.random.choice(length, size = local_size, replace = False)\n",
        "      corr = torch.from_numpy(index)\n",
        "      data_local = data[index,]\n",
        "      input_local = torch.cat([data_local, corr]).float()\n",
        "      inputs.append(input_local)\n",
        "    '''\n",
        "    return global_input_1"
      ],
      "execution_count": 17,
      "outputs": []
    },
    {
      "cell_type": "code",
      "metadata": {
        "id": "-2Ze2ETtto4x"
      },
      "source": [
        "perturb_list = [\"A2M\", \"CCND1\", \"DAG1\", \"FBL\", \"IDH2\", \"IFNGR1\",\"JAK1\", \"MIA\", \"PIK3IP1\", \"SLC19A1\"]\n",
        "  "
      ],
      "execution_count": 18,
      "outputs": []
    },
    {
      "cell_type": "code",
      "metadata": {
        "id": "UZgOxWCztcNP"
      },
      "source": [
        "expr = pd.DataFrame()\n",
        "for label in perturb_list:\n",
        "      path = \"/content/drive/MyDrive/scRNA/subset_hvg/train\" + \"/\" + label + \".csv\"\n",
        "      df = pd.read_csv(path, index_col = 0)\n",
        "      expr = pd.merge(expr, df, how = \"outer\", left_index = True, right_index = True)\n",
        "      "
      ],
      "execution_count": 23,
      "outputs": []
    },
    {
      "cell_type": "code",
      "metadata": {
        "colab": {
          "base_uri": "https://localhost:8080/"
        },
        "id": "_Um4C_UDt9hq",
        "outputId": "273da2ae-e9f0-49d1-91b2-709542a5a28b"
      },
      "source": [
        "len(list(expr.columns))"
      ],
      "execution_count": 28,
      "outputs": [
        {
          "output_type": "execute_result",
          "data": {
            "text/plain": [
              "4014"
            ]
          },
          "metadata": {
            "tags": []
          },
          "execution_count": 28
        }
      ]
    },
    {
      "cell_type": "code",
      "metadata": {
        "id": "gme77SnqtNYl"
      },
      "source": [
        "class scRNACSV(Dataset):\n",
        "  def __init__(self, expression_matrix_path, perturb_list, transform = DINO_Crop, target_transform=None):\n",
        "    self.expr = pd.DataFrame()\n",
        "    self.samples = []\n",
        "    self.labels = []\n",
        "    for label in perturb_list:\n",
        "      path = expression_matrix_path + \"/\" + label + \".csv\"\n",
        "      df = pd.read_csv(path, index_col = 0)\n",
        "      self.expr = pd.merge(self.expr, df, how = \"outer\", left_index = True, right_index = True)\n",
        "      self.samples = self.samples + list(self.expr.columns)\n",
        "      lb = [label for i in range(len(list(self.expr.columns)))]\n",
        "      self.labels = self.labels + lb\n",
        "    #self.expr = pd.read_csv(expression_matrix_path, index_col= 0)\n",
        "    self.transform = transform\n",
        "    self.target_transform = target_transform\n",
        "    self.samples = [(self.samples[i],self.labels[i]) for i in range(len(self.labels))]\n",
        "  def __len__(self):\n",
        "    return self.expr.shape[1]\n",
        "\n",
        "  def __getitem__(self,idx):\n",
        "    #print(self.expr.shape)\n",
        "    one_cell = torch.from_numpy(np.array(self.expr.iloc[:,idx]))\n",
        "    #print(f\"Here is the shape of one_cell {one_cell.shape}\")\n",
        "    ret = self.transform(one_cell)\n",
        "    #print(len(ret))\n",
        "    #print(len(label))\n",
        "    #lab = 1\n",
        "    return ret, idx"
      ],
      "execution_count": 93,
      "outputs": []
    },
    {
      "cell_type": "code",
      "metadata": {
        "id": "wlltzWohBPBa"
      },
      "source": [
        "class scRNACSV(Dataset):\n",
        "  def __init__(self, expression_matrix_path, perturb_list, transform = DINO_Crop, target_transform=None):\n",
        "    self.expr = pd.DataFrame()\n",
        "    self.sample = []\n",
        "    self.labels = []\n",
        "    for number_lab, label in zip(range(len(perturb_list)),perturb_list):\n",
        "      path = expression_matrix_path + \"/\" + label + \".csv\"\n",
        "      df = pd.read_csv(path, index_col = 0)\n",
        "      self.expr = pd.merge(self.expr, df, how = \"outer\", left_index = True, right_index = True)\n",
        "      self.sample = self.sample + list(self.expr.columns)\n",
        "      lb = [number_lab for i in range(len(list(df.columns)))]\n",
        "      self.labels = self.labels + lb\n",
        "    #self.expr = pd.read_csv(expression_matrix_path, index_col= 0)\n",
        "    self.transform = transform\n",
        "    self.target_transform = target_transform\n",
        "    print(self.expr.shape)\n",
        "    self.samples = [(self.sample[i], self.labels[i]) for i in range(len(self.labels))]\n",
        "  def __len__(self):\n",
        "    return self.expr.shape[1]\n",
        "\n",
        "  def __getitem__(self,idx):\n",
        "    #print(self.expr.shape)\n",
        "    one_cell = torch.from_numpy(np.array(self.expr.iloc[:,idx]))\n",
        "    #print(f\"Here is the shape of one_cell {one_cell.shape}\")\n",
        "    ret = self.transform(one_cell)\n",
        "    #print(len(ret))\n",
        "    #print(len(label))\n",
        "    #lab = 1\n",
        "    return ret, idx\n"
      ],
      "execution_count": 55,
      "outputs": []
    },
    {
      "cell_type": "code",
      "metadata": {
        "id": "lk1fftjXxfWQ"
      },
      "source": [
        "train = scRNACSV(\"/content/drive/MyDrive/scRNA/subset_hvg/train\", perturb_list, transform=transform)\n",
        " "
      ],
      "execution_count": 112,
      "outputs": []
    },
    {
      "cell_type": "code",
      "metadata": {
        "id": "qNZWw3kOyn2F"
      },
      "source": [
        "data_loader = torch.utils.data.DataLoader(\n",
        "        train,\n",
        "        batch_size= 32,\n",
        "        shuffle = True\n",
        "    )"
      ],
      "execution_count": 107,
      "outputs": []
    },
    {
      "cell_type": "code",
      "metadata": {
        "id": "_3P2ZcRFzOwM"
      },
      "source": [
        "train_dataloader = torch.utils.data.DataLoader(train, batch_size=64, shuffle=True)"
      ],
      "execution_count": 113,
      "outputs": []
    },
    {
      "cell_type": "code",
      "metadata": {
        "id": "7f9mvgpx0SuR"
      },
      "source": [
        "transform = DINO_Crop(0.7,0.25, 8)"
      ],
      "execution_count": 111,
      "outputs": []
    },
    {
      "cell_type": "code",
      "metadata": {
        "id": "dCaxKehA0H1T"
      },
      "source": [
        "train_features, train_labels = next(iter(train_dataloader))"
      ],
      "execution_count": 117,
      "outputs": []
    },
    {
      "cell_type": "code",
      "metadata": {
        "colab": {
          "base_uri": "https://localhost:8080/"
        },
        "id": "3jJsautQ0bwD",
        "outputId": "ed025be4-1e0d-4296-8b47-16fb20d62b1b"
      },
      "source": [
        "train_features.shape"
      ],
      "execution_count": 118,
      "outputs": [
        {
          "output_type": "execute_result",
          "data": {
            "text/plain": [
              "torch.Size([64, 2800])"
            ]
          },
          "metadata": {
            "tags": []
          },
          "execution_count": 118
        }
      ]
    },
    {
      "cell_type": "code",
      "metadata": {
        "colab": {
          "base_uri": "https://localhost:8080/"
        },
        "id": "NsLEU3I4xuWG",
        "outputId": "c84966de-72d2-4e17-85bd-75d2c9dbac51"
      },
      "source": [
        "len(train.samples)"
      ],
      "execution_count": 57,
      "outputs": [
        {
          "output_type": "execute_result",
          "data": {
            "text/plain": [
              "4014"
            ]
          },
          "metadata": {
            "tags": []
          },
          "execution_count": 57
        }
      ]
    },
    {
      "cell_type": "code",
      "metadata": {
        "colab": {
          "base_uri": "https://localhost:8080/",
          "height": 204
        },
        "id": "1HZDiNEe1miO",
        "outputId": "0786d6e9-774e-468c-f85d-e3646aa944b9"
      },
      "source": [
        "torch.tensor([s for s in train.samples], dtype = 'str')"
      ],
      "execution_count": 42,
      "outputs": [
        {
          "output_type": "error",
          "ename": "TypeError",
          "evalue": "ignored",
          "traceback": [
            "\u001b[0;31m---------------------------------------------------------------------------\u001b[0m",
            "\u001b[0;31mTypeError\u001b[0m                                 Traceback (most recent call last)",
            "\u001b[0;32m<ipython-input-42-30f37c6d073f>\u001b[0m in \u001b[0;36m<module>\u001b[0;34m()\u001b[0m\n\u001b[0;32m----> 1\u001b[0;31m \u001b[0mtorch\u001b[0m\u001b[0;34m.\u001b[0m\u001b[0mtensor\u001b[0m\u001b[0;34m(\u001b[0m\u001b[0;34m[\u001b[0m\u001b[0ms\u001b[0m \u001b[0;32mfor\u001b[0m \u001b[0ms\u001b[0m \u001b[0;32min\u001b[0m \u001b[0mtrain\u001b[0m\u001b[0;34m.\u001b[0m\u001b[0msamples\u001b[0m\u001b[0;34m]\u001b[0m\u001b[0;34m,\u001b[0m \u001b[0mdtype\u001b[0m \u001b[0;34m=\u001b[0m \u001b[0;34m'str'\u001b[0m\u001b[0;34m)\u001b[0m\u001b[0;34m\u001b[0m\u001b[0;34m\u001b[0m\u001b[0m\n\u001b[0m",
            "\u001b[0;31mTypeError\u001b[0m: tensor(): argument 'dtype' must be torch.dtype, not str"
          ]
        }
      ]
    },
    {
      "cell_type": "code",
      "metadata": {
        "colab": {
          "base_uri": "https://localhost:8080/",
          "height": 204
        },
        "id": "Exo-Uo1Z1DZq",
        "outputId": "516872d9-324c-437f-fe47-9c5dda4a575a"
      },
      "source": [
        "train_labels = torch.tensor([s for s in train.samples]).long()\n"
      ],
      "execution_count": 39,
      "outputs": [
        {
          "output_type": "error",
          "ename": "ValueError",
          "evalue": "ignored",
          "traceback": [
            "\u001b[0;31m---------------------------------------------------------------------------\u001b[0m",
            "\u001b[0;31mValueError\u001b[0m                                Traceback (most recent call last)",
            "\u001b[0;32m<ipython-input-39-44df06346879>\u001b[0m in \u001b[0;36m<module>\u001b[0;34m()\u001b[0m\n\u001b[0;32m----> 1\u001b[0;31m \u001b[0mtrain_labels\u001b[0m \u001b[0;34m=\u001b[0m \u001b[0mtorch\u001b[0m\u001b[0;34m.\u001b[0m\u001b[0mtensor\u001b[0m\u001b[0;34m(\u001b[0m\u001b[0;34m[\u001b[0m\u001b[0ms\u001b[0m \u001b[0;32mfor\u001b[0m \u001b[0ms\u001b[0m \u001b[0;32min\u001b[0m \u001b[0mtrain\u001b[0m\u001b[0;34m.\u001b[0m\u001b[0msamples\u001b[0m\u001b[0;34m]\u001b[0m\u001b[0;34m)\u001b[0m\u001b[0;34m.\u001b[0m\u001b[0mlong\u001b[0m\u001b[0;34m(\u001b[0m\u001b[0;34m)\u001b[0m\u001b[0;34m\u001b[0m\u001b[0;34m\u001b[0m\u001b[0m\n\u001b[0m",
            "\u001b[0;31mValueError\u001b[0m: too many dimensions 'str'"
          ]
        }
      ]
    },
    {
      "cell_type": "code",
      "metadata": {
        "colab": {
          "base_uri": "https://localhost:8080/"
        },
        "id": "2p78QmIS1Fbk",
        "outputId": "e45df2c2-3aa8-41cf-9369-72ac1b3a73b3"
      },
      "source": [
        "train_labels"
      ],
      "execution_count": 36,
      "outputs": [
        {
          "output_type": "execute_result",
          "data": {
            "text/plain": [
              "tensor([0, 0, 0,  ..., 9, 9, 9])"
            ]
          },
          "metadata": {
            "tags": []
          },
          "execution_count": 36
        }
      ]
    },
    {
      "cell_type": "markdown",
      "metadata": {
        "id": "WiZJwx6ZZMTL"
      },
      "source": [
        "# Generate PseudoData"
      ]
    },
    {
      "cell_type": "code",
      "metadata": {
        "colab": {
          "base_uri": "https://localhost:8080/"
        },
        "id": "BS3elNneZOit",
        "outputId": "fe54df13-9deb-4772-cde1-a854e5de039b"
      },
      "source": [
        "!pwd"
      ],
      "execution_count": 58,
      "outputs": [
        {
          "output_type": "stream",
          "text": [
            "/content\n"
          ],
          "name": "stdout"
        }
      ]
    },
    {
      "cell_type": "code",
      "metadata": {
        "id": "V3Qwc2Q0ZQoL"
      },
      "source": [
        "os.chdir(\"/content/drive/MyDrive/scRNA/pseudo_data\")"
      ],
      "execution_count": 59,
      "outputs": []
    },
    {
      "cell_type": "code",
      "metadata": {
        "id": "bqV5Y3WuZvpu"
      },
      "source": [
        "!cd test"
      ],
      "execution_count": 60,
      "outputs": []
    },
    {
      "cell_type": "code",
      "metadata": {
        "colab": {
          "base_uri": "https://localhost:8080/"
        },
        "id": "QeJjRQ6IZ5Bc",
        "outputId": "af8787f5-c0b8-4a4d-9137-3d532bdada6f"
      },
      "source": [
        "import numpy as np\n",
        "np.zeros((2000, 100)).shape"
      ],
      "execution_count": 64,
      "outputs": [
        {
          "output_type": "execute_result",
          "data": {
            "text/plain": [
              "(2000, 100)"
            ]
          },
          "metadata": {
            "tags": []
          },
          "execution_count": 64
        }
      ]
    },
    {
      "cell_type": "code",
      "metadata": {
        "id": "wMqldF5Nap0N"
      },
      "source": [
        "import pandas as pd\n",
        "\n",
        "df = pd.DataFrame(np.zeros((2000,100)), columns= [f\"{i}_0\" for i in range(100)]) "
      ],
      "execution_count": 68,
      "outputs": []
    },
    {
      "cell_type": "code",
      "metadata": {
        "colab": {
          "base_uri": "https://localhost:8080/"
        },
        "id": "GBF5jT5mb42J",
        "outputId": "48d27c0d-7a5e-494a-aead-6e45d1587d66"
      },
      "source": [
        "3 * np.ones((2000,100))"
      ],
      "execution_count": 73,
      "outputs": [
        {
          "output_type": "execute_result",
          "data": {
            "text/plain": [
              "array([[3., 3., 3., ..., 3., 3., 3.],\n",
              "       [3., 3., 3., ..., 3., 3., 3.],\n",
              "       [3., 3., 3., ..., 3., 3., 3.],\n",
              "       ...,\n",
              "       [3., 3., 3., ..., 3., 3., 3.],\n",
              "       [3., 3., 3., ..., 3., 3., 3.],\n",
              "       [3., 3., 3., ..., 3., 3., 3.]])"
            ]
          },
          "metadata": {
            "tags": []
          },
          "execution_count": 73
        }
      ]
    },
    {
      "cell_type": "code",
      "metadata": {
        "id": "zvtAD0jObHeZ"
      },
      "source": [
        "df.to_csv(\"./first_test.csv\")"
      ],
      "execution_count": 70,
      "outputs": []
    },
    {
      "cell_type": "code",
      "metadata": {
        "id": "QGyUMpCXbzGf"
      },
      "source": [
        "for i in range(10):\n",
        "  df = pd.DataFrame(i * np.ones((2000,400)), columns= [f\"{j}_{i}\" for j in range(400)]) \n",
        "  file_name = f\"{i}.csv\"\n",
        "  df.to_csv(file_name)"
      ],
      "execution_count": 75,
      "outputs": []
    },
    {
      "cell_type": "code",
      "metadata": {
        "id": "CX4_Ldotczx8"
      },
      "source": [
        "os.chdir(\"/content/drive/MyDrive/scRNA/pseudo_data/test\")\n"
      ],
      "execution_count": 89,
      "outputs": []
    },
    {
      "cell_type": "code",
      "metadata": {
        "colab": {
          "base_uri": "https://localhost:8080/"
        },
        "id": "t4OGMU0AdUQT",
        "outputId": "304321a4-7d9d-4b68-c74a-cb2165dceb1a"
      },
      "source": [
        "!pwd"
      ],
      "execution_count": 90,
      "outputs": [
        {
          "output_type": "stream",
          "text": [
            "/content/drive/MyDrive/scRNA/pseudo_data/test\n"
          ],
          "name": "stdout"
        }
      ]
    },
    {
      "cell_type": "code",
      "metadata": {
        "id": "_fSqeSQ-czIb"
      },
      "source": [
        "for i in range(10):\n",
        "  df = pd.DataFrame(i * np.ones((2000,100)), columns= [f\"{j}_{i}\" for j in range(100)]) \n",
        "  file_name = f\"{i}.csv\"\n",
        "  df.to_csv(file_name)"
      ],
      "execution_count": 92,
      "outputs": []
    },
    {
      "cell_type": "markdown",
      "metadata": {
        "id": "_juKHxBkoWh7"
      },
      "source": [
        "# Compare the dataloader"
      ]
    },
    {
      "cell_type": "code",
      "metadata": {
        "id": "sMS4898XoYmz"
      },
      "source": [
        "class DINO_Crop(object):\n",
        "  def __init__(self, global_crops_scale, local_crops_scale, local_crops_number):\n",
        "    self.global_crops_scale = global_crops_scale\n",
        "    self.local_crops_scale = local_crops_scale\n",
        "    self.local_crops_number = local_crops_number\n",
        "    \n",
        "  def __call__(self, x):\n",
        "    inputs = []\n",
        "    data = x  \n",
        "    #print(data.shape)\n",
        "    length = x.shape[0]\n",
        "    \n",
        "    global_size = int(length * self.global_crops_scale)\n",
        "    local_size = int(length * self.local_crops_scale)\n",
        "    global_index_1 = np.random.choice(length, size = global_size, replace = False)\n",
        "    global_index_2 = np.random.choice(length, size = global_size, replace = False)\n",
        "    \n",
        "    global_corr_1 = torch.from_numpy(global_index_1)\n",
        "    global_corr_2 = torch.from_numpy(global_index_2)\n",
        "    \n",
        "    global_data_1 = data[global_index_1,]\n",
        "    global_data_2 = data[global_index_2,]\n",
        "    #print(data.shape)\n",
        "    #print(corr.shape)\n",
        "    #labels = torch.from_numpy(label.item()*np.ones(shape = (784,1))).float()\n",
        "    global_input_1 = torch.cat([global_data_1, global_corr_1]).float()\n",
        "    global_input_2 = torch.cat([global_data_2, global_corr_2]).float()\n",
        "    inputs.append(global_input_1)\n",
        "    inputs.append(global_input_2)\n",
        "    for i in range(self.local_crops_number):\n",
        "      index = np.random.choice(length, size = local_size, replace = False)\n",
        "      corr = torch.from_numpy(index)\n",
        "      data_local = data[index,]\n",
        "      input_local = torch.cat([data_local, corr]).float()\n",
        "      inputs.append(input_local)\n",
        "    return inputs\n"
      ],
      "execution_count": 119,
      "outputs": []
    },
    {
      "cell_type": "code",
      "metadata": {
        "id": "4bSe5UFBo0cQ"
      },
      "source": [
        "class scRNACSV(Dataset):\n",
        "  def __init__(self, expression_matrix_path, perturb_list, transform = DINO_Crop, target_transform=None):\n",
        "    self.expr = pd.DataFrame()\n",
        "    self.label = []\n",
        "    for label in perturb_list:\n",
        "      path = expression_matrix_path + \"/\" + label + \".csv\"\n",
        "      df = pd.read_csv(path, index_col = 0)\n",
        "      self.expr = pd.merge(self.expr, df, how = \"outer\", left_index = True, right_index = True)\n",
        "      self.label.append(label)\n",
        "\n",
        "    #self.expr = pd.read_csv(expression_matrix_path, index_col= 0)\n",
        "    self.transform = transform\n",
        "    self.target_transform = target_transform\n",
        "    #print(f\"Here is the shape of expr :{self.expr.shape}\")\n",
        "  def __len__(self):\n",
        "    return self.expr.shape[1]\n",
        "\n",
        "  def __getitem__(self,idx):\n",
        "    #print(self.expr.shape)\n",
        "    one_cell = torch.from_numpy(np.array(self.expr.iloc[:,idx]))\n",
        "    #print(f\"Here is the shape of one_cell {one_cell.shape}\")\n",
        "    ret = self.transform(one_cell)\n",
        "    \n",
        "    #print(len(ret))\n",
        "    #print(len(label))\n",
        "    lab = 1\n",
        "    return ret, lab\n"
      ],
      "execution_count": 120,
      "outputs": []
    },
    {
      "cell_type": "code",
      "metadata": {
        "id": "cEtRYVWypbxc"
      },
      "source": [
        " Perturb_labels = [\"A2M\", \"CCND1\"]"
      ],
      "execution_count": 121,
      "outputs": []
    },
    {
      "cell_type": "code",
      "metadata": {
        "id": "tP5ErwCFp49q"
      },
      "source": [
        "crop = DINO_Crop(0.7, 0.25, 8)"
      ],
      "execution_count": 122,
      "outputs": []
    },
    {
      "cell_type": "code",
      "metadata": {
        "id": "wgb9cBQgpYSR"
      },
      "source": [
        "dataset = scRNACSV(\"/content/drive/MyDrive/scRNA/subset_hvg/train\", Perturb_labels, transform=crop)\n",
        "    "
      ],
      "execution_count": 182,
      "outputs": []
    },
    {
      "cell_type": "code",
      "metadata": {
        "colab": {
          "base_uri": "https://localhost:8080/"
        },
        "id": "gSDMifS1yaC9",
        "outputId": "37206fc2-c429-4de3-822c-a4c150b757fb"
      },
      "source": [
        "len(dataset)"
      ],
      "execution_count": 159,
      "outputs": [
        {
          "output_type": "execute_result",
          "data": {
            "text/plain": [
              "774"
            ]
          },
          "metadata": {
            "tags": []
          },
          "execution_count": 159
        }
      ]
    },
    {
      "cell_type": "code",
      "metadata": {
        "id": "VabsfUY4wfM7"
      },
      "source": [
        "x, y = dataset[0]"
      ],
      "execution_count": 160,
      "outputs": []
    },
    {
      "cell_type": "code",
      "metadata": {
        "colab": {
          "base_uri": "https://localhost:8080/"
        },
        "id": "vhPPgYyHylIn",
        "outputId": "de47273d-1889-4d48-92ca-8e06afc9ebbc"
      },
      "source": [
        "y"
      ],
      "execution_count": 161,
      "outputs": [
        {
          "output_type": "execute_result",
          "data": {
            "text/plain": [
              "1"
            ]
          },
          "metadata": {
            "tags": []
          },
          "execution_count": 161
        }
      ]
    },
    {
      "cell_type": "code",
      "metadata": {
        "colab": {
          "base_uri": "https://localhost:8080/"
        },
        "id": "jJQIjLUKwmlH",
        "outputId": "442e6331-4c04-4a2f-f549-de53940e6c5d"
      },
      "source": [
        "len(x)"
      ],
      "execution_count": 162,
      "outputs": [
        {
          "output_type": "execute_result",
          "data": {
            "text/plain": [
              "10"
            ]
          },
          "metadata": {
            "tags": []
          },
          "execution_count": 162
        }
      ]
    },
    {
      "cell_type": "code",
      "metadata": {
        "colab": {
          "base_uri": "https://localhost:8080/"
        },
        "id": "AB5pv2PmwqO4",
        "outputId": "c917f8ce-64ff-47af-c1fb-7720c0c988bf"
      },
      "source": [
        "x[0].shape"
      ],
      "execution_count": 163,
      "outputs": [
        {
          "output_type": "execute_result",
          "data": {
            "text/plain": [
              "torch.Size([2800])"
            ]
          },
          "metadata": {
            "tags": []
          },
          "execution_count": 163
        }
      ]
    },
    {
      "cell_type": "code",
      "metadata": {
        "colab": {
          "base_uri": "https://localhost:8080/"
        },
        "id": "IKp5ss6_wtCQ",
        "outputId": "bc19ec83-b8ce-41fb-a1fc-3eda8e876d18"
      },
      "source": [
        "x[9].shape"
      ],
      "execution_count": 164,
      "outputs": [
        {
          "output_type": "execute_result",
          "data": {
            "text/plain": [
              "torch.Size([1000])"
            ]
          },
          "metadata": {
            "tags": []
          },
          "execution_count": 164
        }
      ]
    },
    {
      "cell_type": "code",
      "metadata": {
        "id": "6eqUnMFxpqhi"
      },
      "source": [
        "data_loader = torch.utils.data.DataLoader(\n",
        "        dataset,\n",
        "        batch_size=64,\n",
        "        pin_memory=True,\n",
        "        drop_last=True,\n",
        "    )"
      ],
      "execution_count": 183,
      "outputs": []
    },
    {
      "cell_type": "code",
      "metadata": {
        "id": "uxPHobwppxBo"
      },
      "source": [
        "train_features, train_labels = next(iter(data_loader))"
      ],
      "execution_count": 184,
      "outputs": []
    },
    {
      "cell_type": "code",
      "metadata": {
        "colab": {
          "base_uri": "https://localhost:8080/"
        },
        "id": "3pn3KEVVwYgj",
        "outputId": "ae35af4e-9d74-4255-97d0-58517643856d"
      },
      "source": [
        "len(train_features)"
      ],
      "execution_count": 178,
      "outputs": [
        {
          "output_type": "execute_result",
          "data": {
            "text/plain": [
              "10"
            ]
          },
          "metadata": {
            "tags": []
          },
          "execution_count": 178
        }
      ]
    },
    {
      "cell_type": "code",
      "metadata": {
        "colab": {
          "base_uri": "https://localhost:8080/"
        },
        "id": "KZ4xvmgQ1WNE",
        "outputId": "21f16bf9-e9a4-45a1-e11c-2813503a1295"
      },
      "source": [
        "train_labels.shape"
      ],
      "execution_count": 179,
      "outputs": [
        {
          "output_type": "execute_result",
          "data": {
            "text/plain": [
              "torch.Size([64])"
            ]
          },
          "metadata": {
            "tags": []
          },
          "execution_count": 179
        }
      ]
    },
    {
      "cell_type": "code",
      "metadata": {
        "colab": {
          "base_uri": "https://localhost:8080/"
        },
        "id": "eR-dQn-F08iN",
        "outputId": "c952111b-41e5-4180-c0e2-1e23e1609b06"
      },
      "source": [
        "train_features[0].shape"
      ],
      "execution_count": 185,
      "outputs": [
        {
          "output_type": "execute_result",
          "data": {
            "text/plain": [
              "torch.Size([64, 2800])"
            ]
          },
          "metadata": {
            "tags": []
          },
          "execution_count": 185
        }
      ]
    },
    {
      "cell_type": "markdown",
      "metadata": {
        "id": "YcIqCC8Aoz9B"
      },
      "source": [
        "# The original dataloder"
      ]
    },
    {
      "cell_type": "code",
      "metadata": {
        "id": "lZ7LTYQTzZvz"
      },
      "source": [
        "import argparse\n",
        "import os\n",
        "import sys\n",
        "import datetime\n",
        "import time\n",
        "import math\n",
        "import json\n",
        "from pathlib import Path\n",
        "\n",
        "import numpy as np\n",
        "from PIL import Image\n",
        "import torch\n",
        "import torch.nn as nn\n",
        "import torch.distributed as dist\n",
        "import torch.backends.cudnn as cudnn\n",
        "import torch.nn.functional as F\n",
        "from torchvision import datasets, transforms\n",
        "from torchvision import models as torchvision_models\n",
        "import numpy as np\n"
      ],
      "execution_count": 142,
      "outputs": []
    },
    {
      "cell_type": "code",
      "metadata": {
        "id": "r1YqwzgSy-XO"
      },
      "source": [
        "class Crop(object):\n",
        "  def __init__(self, global_crops_scale, local_crops_scale, local_crops_number):\n",
        "    self.global_crops_scale = global_crops_scale\n",
        "    self.local_crops_scale = local_crops_scale\n",
        "    self.local_crops_number = local_crops_number\n",
        "    self.totensor = transforms.ToTensor()\n",
        "  def __call__(self, x):\n",
        "    inputs = []\n",
        "    data = self.totensor(x)\n",
        "    data = torch.flatten(data)  \n",
        "    global_size = int(784 * self.global_crops_scale)\n",
        "    local_size = int(784 * self.local_crops_scale)\n",
        "    global_index_1 = np.random.choice(784, size = global_size, replace = False)\n",
        "    global_index_2 = np.random.choice(784, size = global_size, replace = False)\n",
        "    \n",
        "    global_corr_1 = torch.from_numpy(global_index_1)\n",
        "    global_corr_2 = torch.from_numpy(global_index_2)\n",
        "    \n",
        "    global_data_1 = data[global_index_1,]\n",
        "    global_data_2 = data[global_index_2,]\n",
        "    #print(data.shape)\n",
        "    #print(corr.shape)\n",
        "    #labels = torch.from_numpy(label.item()*np.ones(shape = (784,1))).float()\n",
        "    global_input_1 = torch.cat([global_data_1, global_corr_1]).float()\n",
        "    global_input_2 = torch.cat([global_data_2, global_corr_2]).float()\n",
        "    inputs.append(global_input_1)\n",
        "    inputs.append(global_input_2)\n",
        "    for i in range(self.local_crops_number):\n",
        "      index = np.random.choice(784, size = local_size, replace = False)\n",
        "      corr = torch.from_numpy(index)\n",
        "      data_local = data[index,]\n",
        "      input_local = torch.cat([data_local, corr]).float()\n",
        "      inputs.append(input_local)\n",
        "    return inputs"
      ],
      "execution_count": 140,
      "outputs": []
    },
    {
      "cell_type": "code",
      "metadata": {
        "id": "1HL6II8-zPqB"
      },
      "source": [
        "o_crop = Crop(0.7, 0.25, 8)"
      ],
      "execution_count": 143,
      "outputs": []
    },
    {
      "cell_type": "code",
      "metadata": {
        "id": "AO14pZOMzetx"
      },
      "source": [
        "dataset = datasets.FashionMNIST(root = \"/content/drive/MyDrive/DINO_Group/Jul_10\", download = True, transform = o_crop)\n",
        "  "
      ],
      "execution_count": 170,
      "outputs": []
    },
    {
      "cell_type": "code",
      "metadata": {
        "colab": {
          "base_uri": "https://localhost:8080/"
        },
        "id": "E0lwTBkwzsbn",
        "outputId": "ed1f1edc-1e7a-466e-8139-0bb616999101"
      },
      "source": [
        "len(dataset)"
      ],
      "execution_count": 171,
      "outputs": [
        {
          "output_type": "execute_result",
          "data": {
            "text/plain": [
              "60000"
            ]
          },
          "metadata": {
            "tags": []
          },
          "execution_count": 171
        }
      ]
    },
    {
      "cell_type": "code",
      "metadata": {
        "id": "q5asGjGPz0Jc"
      },
      "source": [
        "x_o, y_o = dataset[0]"
      ],
      "execution_count": 172,
      "outputs": []
    },
    {
      "cell_type": "code",
      "metadata": {
        "colab": {
          "base_uri": "https://localhost:8080/"
        },
        "id": "9WnlO7D4z3xb",
        "outputId": "4332052d-9391-47b3-bce0-5f9ddd334d8f"
      },
      "source": [
        "len(x_o)"
      ],
      "execution_count": 173,
      "outputs": [
        {
          "output_type": "execute_result",
          "data": {
            "text/plain": [
              "10"
            ]
          },
          "metadata": {
            "tags": []
          },
          "execution_count": 173
        }
      ]
    },
    {
      "cell_type": "code",
      "metadata": {
        "colab": {
          "base_uri": "https://localhost:8080/"
        },
        "id": "i9zjzz6mz94z",
        "outputId": "89f0ff15-1dea-4203-ac39-3f807cd44af1"
      },
      "source": [
        "y_o"
      ],
      "execution_count": 174,
      "outputs": [
        {
          "output_type": "execute_result",
          "data": {
            "text/plain": [
              "9"
            ]
          },
          "metadata": {
            "tags": []
          },
          "execution_count": 174
        }
      ]
    },
    {
      "cell_type": "code",
      "metadata": {
        "colab": {
          "base_uri": "https://localhost:8080/"
        },
        "id": "Ay-anvvv0Bq_",
        "outputId": "07818232-0936-42bc-d4ff-8a116c0de5db"
      },
      "source": [
        "x_o[2].shape"
      ],
      "execution_count": 175,
      "outputs": [
        {
          "output_type": "execute_result",
          "data": {
            "text/plain": [
              "torch.Size([392])"
            ]
          },
          "metadata": {
            "tags": []
          },
          "execution_count": 175
        }
      ]
    }
  ]
}