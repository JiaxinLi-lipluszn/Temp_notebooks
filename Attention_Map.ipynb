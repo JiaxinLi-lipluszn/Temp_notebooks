{
  "nbformat": 4,
  "nbformat_minor": 0,
  "metadata": {
    "colab": {
      "name": "Attention_Map.ipynb",
      "provenance": [],
      "mount_file_id": "1fCyGVrtyUElFtiDlsqE9yeBBtThvy_gq",
      "authorship_tag": "ABX9TyOrzRzMGLsUZ+t4FgNvCQ/0",
      "include_colab_link": true
    },
    "kernelspec": {
      "name": "python3",
      "display_name": "Python 3"
    },
    "language_info": {
      "name": "python"
    },
    "accelerator": "GPU"
  },
  "cells": [
    {
      "cell_type": "markdown",
      "metadata": {
        "id": "view-in-github",
        "colab_type": "text"
      },
      "source": [
        "<a href=\"https://colab.research.google.com/github/JiaxinLi-lipluszn/Temp_notebooks/blob/main/Attention_Map.ipynb\" target=\"_parent\"><img src=\"https://colab.research.google.com/assets/colab-badge.svg\" alt=\"Open In Colab\"/></a>"
      ]
    },
    {
      "cell_type": "code",
      "metadata": {
        "id": "5hTh-z-Z5mAh"
      },
      "source": [
        ""
      ],
      "execution_count": null,
      "outputs": []
    },
    {
      "cell_type": "code",
      "metadata": {
        "id": "ZQqmPWDB5vE7"
      },
      "source": [
        "from google.colab import drive\n",
        "drive.mount('/content/drive')"
      ],
      "execution_count": null,
      "outputs": []
    },
    {
      "cell_type": "code",
      "metadata": {
        "id": "Xosaxqx6-dL_"
      },
      "source": [
        "import os \n",
        "os.chdir(\"/content/drive/MyDrive/DINO_Group/128+128_TS/\")"
      ],
      "execution_count": null,
      "outputs": []
    },
    {
      "cell_type": "code",
      "metadata": {
        "id": "q-w8ots56unz"
      },
      "source": [
        "import os\n",
        "import sys\n",
        "import argparse\n",
        "import cv2\n",
        "import random\n",
        "import colorsys\n",
        "import requests\n",
        "from io import BytesIO\n",
        "\n",
        "import skimage.io\n",
        "from skimage.measure import find_contours\n",
        "import matplotlib.pyplot as plt\n",
        "from matplotlib.patches import Polygon\n",
        "import torch\n",
        "import torch.nn as nn\n",
        "import torchvision\n",
        "from torchvision import transforms as pth_transforms\n",
        "import numpy as np\n",
        "from PIL import Image"
      ],
      "execution_count": null,
      "outputs": []
    },
    {
      "cell_type": "code",
      "metadata": {
        "id": "me0HPEBr-n3K"
      },
      "source": [
        "import utils\n",
        "import vision_transformer as vits"
      ],
      "execution_count": null,
      "outputs": []
    },
    {
      "cell_type": "code",
      "metadata": {
        "colab": {
          "base_uri": "https://localhost:8080/"
        },
        "id": "LXTE3_87-1MR",
        "outputId": "c05699c4-0a3f-4a68-bee1-219cd856f033"
      },
      "source": [
        "model = vits.vit_tiny()  \n",
        "for p in model.parameters():\n",
        "        p.requires_grad = False\n",
        "model.eval()\n"
      ],
      "execution_count": null,
      "outputs": [
        {
          "output_type": "execute_result",
          "data": {
            "text/plain": [
              "VisionTransformer(\n",
              "  (pos_drop): Dropout(p=0.0, inplace=False)\n",
              "  (norm): LayerNorm((256,), eps=1e-06, elementwise_affine=True)\n",
              "  (blocks): ModuleList(\n",
              "    (0): Block(\n",
              "      (norm1): LayerNorm((256,), eps=1e-06, elementwise_affine=True)\n",
              "      (attn): Attention(\n",
              "        (qkv): Linear(in_features=256, out_features=768, bias=True)\n",
              "        (attn_drop): Dropout(p=0.0, inplace=False)\n",
              "        (proj): Linear(in_features=256, out_features=256, bias=True)\n",
              "        (proj_drop): Dropout(p=0.0, inplace=False)\n",
              "      )\n",
              "      (drop_path): Identity()\n",
              "      (norm2): LayerNorm((256,), eps=1e-06, elementwise_affine=True)\n",
              "      (mlp): Mlp(\n",
              "        (fc1): Linear(in_features=256, out_features=1024, bias=True)\n",
              "        (act): GELU()\n",
              "        (fc2): Linear(in_features=1024, out_features=256, bias=True)\n",
              "        (drop): Dropout(p=0.0, inplace=False)\n",
              "      )\n",
              "    )\n",
              "    (1): Block(\n",
              "      (norm1): LayerNorm((256,), eps=1e-06, elementwise_affine=True)\n",
              "      (attn): Attention(\n",
              "        (qkv): Linear(in_features=256, out_features=768, bias=True)\n",
              "        (attn_drop): Dropout(p=0.0, inplace=False)\n",
              "        (proj): Linear(in_features=256, out_features=256, bias=True)\n",
              "        (proj_drop): Dropout(p=0.0, inplace=False)\n",
              "      )\n",
              "      (drop_path): Identity()\n",
              "      (norm2): LayerNorm((256,), eps=1e-06, elementwise_affine=True)\n",
              "      (mlp): Mlp(\n",
              "        (fc1): Linear(in_features=256, out_features=1024, bias=True)\n",
              "        (act): GELU()\n",
              "        (fc2): Linear(in_features=1024, out_features=256, bias=True)\n",
              "        (drop): Dropout(p=0.0, inplace=False)\n",
              "      )\n",
              "    )\n",
              "    (2): Block(\n",
              "      (norm1): LayerNorm((256,), eps=1e-06, elementwise_affine=True)\n",
              "      (attn): Attention(\n",
              "        (qkv): Linear(in_features=256, out_features=768, bias=True)\n",
              "        (attn_drop): Dropout(p=0.0, inplace=False)\n",
              "        (proj): Linear(in_features=256, out_features=256, bias=True)\n",
              "        (proj_drop): Dropout(p=0.0, inplace=False)\n",
              "      )\n",
              "      (drop_path): Identity()\n",
              "      (norm2): LayerNorm((256,), eps=1e-06, elementwise_affine=True)\n",
              "      (mlp): Mlp(\n",
              "        (fc1): Linear(in_features=256, out_features=1024, bias=True)\n",
              "        (act): GELU()\n",
              "        (fc2): Linear(in_features=1024, out_features=256, bias=True)\n",
              "        (drop): Dropout(p=0.0, inplace=False)\n",
              "      )\n",
              "    )\n",
              "  )\n",
              "  (Embedding): Embedding(784, 128)\n",
              "  (exprProj): Linear(in_features=1, out_features=128, bias=True)\n",
              ")"
            ]
          },
          "metadata": {
            "tags": []
          },
          "execution_count": 5
        }
      ]
    },
    {
      "cell_type": "code",
      "metadata": {
        "colab": {
          "base_uri": "https://localhost:8080/"
        },
        "id": "kMvMU4h6_zeD",
        "outputId": "a69d3bdd-cc21-4592-c5e2-9d2ae0ade763"
      },
      "source": [
        "state_dict = torch.load(\"./128+128/checkpoint0335.pth\", map_location=\"cpu\")\n",
        "\n",
        "state_dict = state_dict[\"teacher\"]\n",
        "# remove `module.` prefix\n",
        "state_dict = {k.replace(\"module.\", \"\"): v for k, v in state_dict.items()}\n",
        "# remove `backbone.` prefix induced by multicrop wrapper\n",
        "state_dict = {k.replace(\"backbone.\", \"\"): v for k, v in state_dict.items()}\n",
        "msg = model.load_state_dict(state_dict, strict=False)\n",
        "print('Pretrained weights found at {} and loaded with msg: {}'.format(\"./128+128/checkpoint0335.pth\", msg))"
      ],
      "execution_count": null,
      "outputs": [
        {
          "output_type": "stream",
          "text": [
            "Pretrained weights found at ./128+128/checkpoint0335.pth and loaded with msg: _IncompatibleKeys(missing_keys=[], unexpected_keys=['head.mlp.0.weight', 'head.mlp.0.bias', 'head.mlp.2.weight', 'head.mlp.2.bias', 'head.mlp.4.weight', 'head.mlp.4.bias', 'head.last_layer.weight_g', 'head.last_layer.weight_v'])\n"
          ],
          "name": "stdout"
        }
      ]
    },
    {
      "cell_type": "code",
      "metadata": {
        "id": "LTN0rKJLYk9E"
      },
      "source": [
        "label = 1\n",
        "file_name = \"1005.png\""
      ],
      "execution_count": null,
      "outputs": []
    },
    {
      "cell_type": "code",
      "metadata": {
        "id": "CljJa1HXaqaO"
      },
      "source": [
        ""
      ],
      "execution_count": null,
      "outputs": []
    },
    {
      "cell_type": "markdown",
      "metadata": {
        "id": "lOUtjzGgaq3Q"
      },
      "source": [
        "# Run all"
      ]
    },
    {
      "cell_type": "code",
      "metadata": {
        "colab": {
          "base_uri": "https://localhost:8080/",
          "height": 311
        },
        "id": "foFvdLtUA_No",
        "outputId": "11e86878-4239-46a4-bcc7-b44bde15c017"
      },
      "source": [
        "img = Image.open(f\"/content/drive/MyDrive/data/val/{label}/{file_name}\")"
      ],
      "execution_count": null,
      "outputs": [
        {
          "output_type": "error",
          "ename": "FileNotFoundError",
          "evalue": "ignored",
          "traceback": [
            "\u001b[0;31m---------------------------------------------------------------------------\u001b[0m",
            "\u001b[0;31mFileNotFoundError\u001b[0m                         Traceback (most recent call last)",
            "\u001b[0;32m<ipython-input-460-c64ff62a603c>\u001b[0m in \u001b[0;36m<module>\u001b[0;34m()\u001b[0m\n\u001b[0;32m----> 1\u001b[0;31m \u001b[0mimg\u001b[0m \u001b[0;34m=\u001b[0m \u001b[0mImage\u001b[0m\u001b[0;34m.\u001b[0m\u001b[0mopen\u001b[0m\u001b[0;34m(\u001b[0m\u001b[0;34mf\"/content/drive/MyDrive/data/val/{label}/{file_name}\"\u001b[0m\u001b[0;34m)\u001b[0m\u001b[0;34m\u001b[0m\u001b[0;34m\u001b[0m\u001b[0m\n\u001b[0m",
            "\u001b[0;32m/usr/local/lib/python3.7/dist-packages/PIL/Image.py\u001b[0m in \u001b[0;36mopen\u001b[0;34m(fp, mode)\u001b[0m\n\u001b[1;32m   2841\u001b[0m \u001b[0;34m\u001b[0m\u001b[0m\n\u001b[1;32m   2842\u001b[0m     \u001b[0;32mif\u001b[0m \u001b[0mfilename\u001b[0m\u001b[0;34m:\u001b[0m\u001b[0;34m\u001b[0m\u001b[0;34m\u001b[0m\u001b[0m\n\u001b[0;32m-> 2843\u001b[0;31m         \u001b[0mfp\u001b[0m \u001b[0;34m=\u001b[0m \u001b[0mbuiltins\u001b[0m\u001b[0;34m.\u001b[0m\u001b[0mopen\u001b[0m\u001b[0;34m(\u001b[0m\u001b[0mfilename\u001b[0m\u001b[0;34m,\u001b[0m \u001b[0;34m\"rb\"\u001b[0m\u001b[0;34m)\u001b[0m\u001b[0;34m\u001b[0m\u001b[0;34m\u001b[0m\u001b[0m\n\u001b[0m\u001b[1;32m   2844\u001b[0m         \u001b[0mexclusive_fp\u001b[0m \u001b[0;34m=\u001b[0m \u001b[0;32mTrue\u001b[0m\u001b[0;34m\u001b[0m\u001b[0;34m\u001b[0m\u001b[0m\n\u001b[1;32m   2845\u001b[0m \u001b[0;34m\u001b[0m\u001b[0m\n",
            "\u001b[0;31mFileNotFoundError\u001b[0m: [Errno 2] No such file or directory: '/content/drive/MyDrive/data/val/1/1005.png'"
          ]
        }
      ]
    },
    {
      "cell_type": "code",
      "metadata": {
        "colab": {
          "base_uri": "https://localhost:8080/",
          "height": 44
        },
        "id": "tncNlnOwBj7Z",
        "outputId": "007bec62-af0a-4a48-ee56-ea32fe1da25e"
      },
      "source": [
        "img"
      ],
      "execution_count": null,
      "outputs": [
        {
          "output_type": "execute_result",
          "data": {
            "image/png": "[encoded data removed]",
            "text/plain": [
              "<PIL.PngImagePlugin.PngImageFile image mode=L size=28x28 at 0x7F43572104D0>"
            ]
          },
          "metadata": {
            "tags": []
          },
          "execution_count": 446
        }
      ]
    },
    {
      "cell_type": "code",
      "metadata": {
        "id": "fs0M6eHWCEL4"
      },
      "source": [
        "gray = pth_transforms.Grayscale(img)\n"
      ],
      "execution_count": null,
      "outputs": []
    },
    {
      "cell_type": "code",
      "metadata": {
        "id": "PKC_NgIqClX6"
      },
      "source": [
        "class Crop_No_shuffle(object):\n",
        "  def __init__(self, global_crops_scale):\n",
        "    self.global_crops_scale = global_crops_scale\n",
        "    self.totensor = pth_transforms.ToTensor()\n",
        "  def __call__(self, x):\n",
        "    data = self.totensor(x)\n",
        "    data = torch.flatten(data)  \n",
        "    global_size = int(784 * self.global_crops_scale)\n",
        "    global_index_1 = np.arange(784)\n",
        "    global_corr_1 = torch.from_numpy(global_index_1)\n",
        "    global_data_1 = data[global_index_1,]\n",
        "    global_input_1 = torch.cat([global_data_1, global_corr_1]).float()\n",
        "    return global_input_1"
      ],
      "execution_count": null,
      "outputs": []
    },
    {
      "cell_type": "code",
      "metadata": {
        "id": "s6rvaVSCC294"
      },
      "source": [
        "crop = Crop_No_shuffle(1)"
      ],
      "execution_count": null,
      "outputs": []
    },
    {
      "cell_type": "code",
      "metadata": {
        "id": "Suk2k343C7F3"
      },
      "source": [
        "image_tensor = crop(img)"
      ],
      "execution_count": null,
      "outputs": []
    },
    {
      "cell_type": "code",
      "metadata": {
        "id": "_QB3ebHQDdJ0"
      },
      "source": [
        "image_tensor = image_tensor.reshape(1, 1568).cuda()\n",
        "model = model.cuda()"
      ],
      "execution_count": null,
      "outputs": []
    },
    {
      "cell_type": "code",
      "metadata": {
        "id": "gCR9u9CfDU-o"
      },
      "source": [
        "attentions = model.get_last_selfattention(image_tensor)\n"
      ],
      "execution_count": null,
      "outputs": []
    },
    {
      "cell_type": "code",
      "metadata": {
        "colab": {
          "base_uri": "https://localhost:8080/"
        },
        "id": "Sr5NyklEEGGF",
        "outputId": "dd800b8e-280b-4a04-9b9b-60937e1ee1c8"
      },
      "source": [
        "attentions.shape"
      ],
      "execution_count": null,
      "outputs": [
        {
          "output_type": "execute_result",
          "data": {
            "text/plain": [
              "torch.Size([1, 1, 785, 785])"
            ]
          },
          "metadata": {
            "tags": []
          },
          "execution_count": 453
        }
      ]
    },
    {
      "cell_type": "code",
      "metadata": {
        "id": "M7uwiPcREu1C"
      },
      "source": [
        "# we keep only the output patch attention\n",
        "nh = attentions.shape[1]\n",
        "attentions = attentions[0, :, 0, 1:].reshape(nh, -1)\n"
      ],
      "execution_count": null,
      "outputs": []
    },
    {
      "cell_type": "code",
      "metadata": {
        "colab": {
          "base_uri": "https://localhost:8080/"
        },
        "id": "FxFYIs-3E7yM",
        "outputId": "9fdd13cd-e022-4103-a604-83be1fbdfc6f"
      },
      "source": [
        "attentions.shape"
      ],
      "execution_count": null,
      "outputs": [
        {
          "output_type": "execute_result",
          "data": {
            "text/plain": [
              "torch.Size([1, 784])"
            ]
          },
          "metadata": {
            "tags": []
          },
          "execution_count": 455
        }
      ]
    },
    {
      "cell_type": "code",
      "metadata": {
        "id": "muQTgn7vHTOE"
      },
      "source": [
        "attention = attentions.reshape(1,28,28).cpu().detach().numpy()"
      ],
      "execution_count": null,
      "outputs": []
    },
    {
      "cell_type": "code",
      "metadata": {
        "id": "FOUyQMYHMOzZ"
      },
      "source": [
        "saved_img = image_tensor[:,0:784].reshape(28,28)"
      ],
      "execution_count": null,
      "outputs": []
    },
    {
      "cell_type": "code",
      "metadata": {
        "colab": {
          "base_uri": "https://localhost:8080/",
          "height": 233
        },
        "id": "KvzeVmKPU9on",
        "outputId": "94c0efc0-36a5-4ac6-dc50-f80cf29c9a1b"
      },
      "source": [
        "import matplotlib.pyplot as plt\n",
        "fig, axs = plt.subplots(1, 2, figsize=(10, 3))\n",
        "axs[0].imshow(attention[0])\n",
        "axs[0].set_title(\"Attention Map\")\n",
        "axs[1].imshow(saved_img.cpu(),cmap = 'gray')\n",
        "axs[1].set_title(\"Original Image\")\n",
        "'''\n",
        "for ax in axs:\n",
        "    ax.imshow(attention[0],interpolation=interp)\n",
        "'''\n",
        "plt.suptitle(f\"class: {label}, File: {file_name}\")\n",
        "plt.savefig(f\"{label}_{file_name}\",)\n",
        "#plt.show()"
      ],
      "execution_count": null,
      "outputs": [
        {
          "output_type": "display_data",
          "data": {
            "image/png": "[encoded data removed]",
            "text/plain": [
              "<Figure size 720x216 with 2 Axes>"
            ]
          },
          "metadata": {
            "tags": [],
            "needs_background": "light"
          }
        }
      ]
    },
    {
      "cell_type": "code",
      "metadata": {
        "id": "qSSDQ3qfJtth"
      },
      "source": [
        ""
      ],
      "execution_count": null,
      "outputs": []
    }
  ]
}